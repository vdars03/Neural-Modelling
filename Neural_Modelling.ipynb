{
 "cells": [
  {
   "cell_type": "markdown",
   "metadata": {},
   "source": [
    "# CMSE 381 Final Project: Neural Response Modeling from Face Stimuli in Monkeys"
   ]
  },
  {
   "cell_type": "markdown",
   "metadata": {},
   "source": [
    "### &#9989; Group members: Vibu Darshan\n",
    "### &#9989; Section_001\n",
    "#### &#9989; 25 April 2025"
   ]
  },
  {
   "cell_type": "markdown",
   "metadata": {},
   "source": [
    "## Background and Motivation"
   ]
  },
  {
   "cell_type": "markdown",
   "metadata": {},
   "source": [
    "Understanding how the brain responds to visual stimuli is a key part of neuroscience research. In this project, we analyze time-series neural activity data recorded from monkeys in response to face images. Each stimulus is associated with a person and orientation label, and the brain activity is recorded across hundreds of time steps.\n",
    "\n",
    "My project focuses on two main questions:\n",
    "\n",
    "1. **Classification Task**: Can we predict which person was shown in the stimulus based on the neural response pattern?\n",
    "2. **Regression Task**: Can we predict the average neural activation during the middle portion of the time-series response?\n",
    "\n",
    "By answering these, I aim to gain insights into how specific stimuli affect neural firing patterns and explore how well simple machine learning models can capture those effects."
   ]
  },
  {
   "cell_type": "markdown",
   "metadata": {},
   "source": [
    "## Methodology\n",
    "I used five CSV files from the Freiwald-Tsao face stimuli dataset, each containing neural recordings from different brain sites. The recordings consist of time-series data across 800 time points for each stimulus trial, along with associated labels like the person shown and the orientation of the face.\n",
    "\n",
    "I followed these steps:\n",
    "\n",
    "1. **Data Preparation**:  \n",
    "   - Loaded and concatenated data from the five selected files.\n",
    "   - Extracted time-series columns as input features.\n",
    "   - Defined two targets: `labels.person` for classification and the mean of time points 400–600 for regression.\n",
    "\n",
    "2. **Feature Scaling and Dimensionality Reduction**:  \n",
    "   - Applied `StandardScaler` for normalization.\n",
    "   - Used `PCA` to reduce dimensions from 800 to 50 (and later to 20 for regression tuning).\n",
    "\n",
    "3. **Modeling**:  \n",
    "   - Classification: Used `LogisticRegression` in a pipeline with `PCA` and `StandardScaler`, evaluated with 5-fold cross-validation.\n",
    "   - Regression: Used `Ridge` regression with the same pipeline structure, evaluated using R².\n",
    "\n",
    "4. **Model Improvement**:  \n",
    "   - Tuned Logistic Regression’s regularization parameter `C` using `GridSearchCV`.\n",
    "   - Reduced PCA components for Ridge regression to assess the effect of subset feature selection.\n",
    "\n",
    "This methodology allowed me to evaluate both tasks efficiently while incorporating cross-validation and model improvement techniques as required."
   ]
  },
  {
   "cell_type": "code",
   "execution_count": 16,
   "metadata": {},
   "outputs": [],
   "source": [
    "import pandas as pd\n",
    "from sklearn.decomposition import PCA\n",
    "from sklearn.linear_model import LogisticRegression, Ridge\n",
    "from sklearn.preprocessing import StandardScaler\n",
    "from sklearn.model_selection import cross_val_score, GridSearchCV\n",
    "from sklearn.pipeline import make_pipeline\n",
    "import numpy as np"
   ]
  },
  {
   "cell_type": "markdown",
   "metadata": {
    "vscode": {
     "languageId": "plaintext"
    }
   },
   "source": [
    "### Data\n",
    "I used five files from the Freiwald-Tsao dataset, which contains neural recordings of a monkey’s brain in response to face stimuli. Each file represents data from a different recording site.\n",
    "\n",
    "Each row in the dataset represents a trial, where:\n",
    "- `labels.person`: the person shown in the stimulus (used for classification)\n",
    "- `time.1_2` to `time.800_801`: firing activity recorded across time steps (used as features)\n",
    "- `site_info.*` and `labels.orientation` were also available, but I focused on `labels.person` and the time series.\n",
    "\n",
    "For regression, I used the **average of the time-series values from time.400_401 to time.600_601** as the target, which roughly represents the central portion of the neural response — a biologically meaningful window to estimate average brain activity.\n",
    "\n",
    "The reason for choosing these variables is:\n",
    "- `labels.person` is a clear classification target linked to a visual stimulus.\n",
    "- The middle segment of the time-series offers a stable period for measuring consistent neural response in the regression task.\n"
   ]
  },
  {
   "cell_type": "code",
   "execution_count": 17,
   "metadata": {},
   "outputs": [
    {
     "name": "stdout",
     "output_type": "stream",
     "text": [
      "(702, 800) (702,) (702,)\n"
     ]
    }
   ],
   "source": [
    "fns = [\n",
    "    \"raster_data_bert_am_site013.csv\",\n",
    "    \"raster_data_bert_am_site021.csv\",\n",
    "    \"raster_data_bert_am_site033.csv\",\n",
    "    \"raster_data_bert_am_site045.csv\",\n",
    "    \"raster_data_bert_am_site054.csv\"\n",
    "]\n",
    "dfs = [pd.read_csv(fn) for fn in fns]\n",
    "df = pd.concat(dfs, ignore_index=True)\n",
    "tc = [c for c in df.columns if c.startswith(\"time.\")]\n",
    "X = df[tc]\n",
    "y1 = df[\"labels.person\"]\n",
    "mc = [c for c in tc if 400 <= int(c.split('.')[1].split('_')[0]) <= 600]\n",
    "y2 = df[mc].mean(axis=1)\n",
    "\n",
    "sample_idx = np.random.choice(X.index, size=int(0.2 * len(X)), replace=False)\n",
    "X = X.loc[sample_idx]\n",
    "y1 = y1.loc[sample_idx]\n",
    "y2 = y2.loc[sample_idx]\n",
    "\n",
    "\n",
    "print(X.shape, y1.shape, y2.shape)"
   ]
  },
  {
   "cell_type": "code",
   "execution_count": 18,
   "metadata": {},
   "outputs": [
    {
     "name": "stdout",
     "output_type": "stream",
     "text": [
      "  site_info.monkey site_info.region  labels.stimID  labels.person  \\\n",
      "0             bert               am              1              1   \n",
      "1             bert               am              1              1   \n",
      "2             bert               am              1              1   \n",
      "3             bert               am              2              2   \n",
      "4             bert               am              2              2   \n",
      "\n",
      "  labels.orientation labels.orient_person_combo  time.1_2  time.2_3  time.3_4  \\\n",
      "0              front                    front 1         0         0         0   \n",
      "1              front                    front 1         0         0         0   \n",
      "2              front                    front 1         0         0         0   \n",
      "3              front                    front 2         0         0         0   \n",
      "4              front                    front 2         0         1         0   \n",
      "\n",
      "   time.4_5  ...  time.791_792  time.792_793  time.793_794  time.794_795  \\\n",
      "0         0  ...             0             0             0             0   \n",
      "1         0  ...             0             0             0             0   \n",
      "2         0  ...             0             0             0             0   \n",
      "3         0  ...             0             0             0             0   \n",
      "4         0  ...             0             0             0             0   \n",
      "\n",
      "   time.795_796  time.796_797  time.797_798  time.798_799  time.799_800  \\\n",
      "0             0             0             0             0             1   \n",
      "1             0             0             0             0             0   \n",
      "2             0             0             0             0             0   \n",
      "3             0             0             0             0             0   \n",
      "4             0             0             0             0             0   \n",
      "\n",
      "   time.800_801  \n",
      "0             0  \n",
      "1             0  \n",
      "2             0  \n",
      "3             0  \n",
      "4             0  \n",
      "\n",
      "[5 rows x 806 columns]\n",
      "(702, 800)\n",
      "Index(['time.1_2', 'time.2_3', 'time.3_4', 'time.4_5', 'time.5_6'], dtype='object')\n",
      "labels.person\n",
      "4     39\n",
      "18    35\n",
      "15    35\n",
      "7     33\n",
      "20    33\n",
      "12    31\n",
      "8     31\n",
      "23    30\n",
      "11    30\n",
      "22    29\n",
      "21    29\n",
      "25    29\n",
      "6     28\n",
      "1     28\n",
      "10    26\n",
      "19    26\n",
      "3     26\n",
      "17    26\n",
      "13    25\n",
      "14    24\n",
      "16    23\n",
      "24    23\n",
      "5     22\n",
      "2     21\n",
      "9     20\n",
      "Name: count, dtype: int64\n",
      "count    702.000000\n",
      "mean       0.009483\n",
      "std        0.009217\n",
      "min        0.000000\n",
      "25%        0.000000\n",
      "50%        0.009950\n",
      "75%        0.014925\n",
      "max        0.044776\n",
      "dtype: float64\n"
     ]
    }
   ],
   "source": [
    "print(df.head())\n",
    "print(X.shape)\n",
    "print(X.columns[:5])\n",
    "print(y1.value_counts())\n",
    "print(y2.describe())"
   ]
  },
  {
   "cell_type": "markdown",
   "metadata": {},
   "source": [
    "### Models for classification\n",
    "For the classification task, I used **Logistic Regression**. It’s a simple yet effective linear model that works well for high-dimensional data and provides interpretability. Since our input features are time-series data with 800 dimensions, I first reduced dimensionality using **Principal Component Analysis (PCA)** to 50 components.\n",
    "\n",
    "I chose Logistic Regression because:\n",
    "- It is efficient for multi-class problems like predicting `labels.person`\n",
    "- It works well when paired with PCA to avoid overfitting on high-dimensional inputs\n",
    "- It allows easy hyperparameter tuning (e.g., regularization strength `C`)\n",
    "\n",
    "**Evaluation**:\n",
    "I evaluated model performance using **5-fold cross-validation** and **accuracy** as the metric. I also used **GridSearchCV** to tune the `C` parameter, selecting the model with the highest cross-validated accuracy.\n",
    "\n",
    "This setup helps us answer the question: *Can I accurately identify the person shown in the stimulus based on neural activity?*"
   ]
  },
  {
   "cell_type": "code",
   "execution_count": 19,
   "metadata": {},
   "outputs": [
    {
     "name": "stderr",
     "output_type": "stream",
     "text": [
      "/opt/miniconda3/lib/python3.11/site-packages/sklearn/model_selection/_split.py:805: UserWarning: The least populated class in y has only 1 members, which is less than n_splits=5.\n",
      "  warnings.warn(\n",
      "/opt/miniconda3/lib/python3.11/site-packages/sklearn/linear_model/_sag.py:348: ConvergenceWarning: The max_iter was reached which means the coef_ did not converge\n",
      "  warnings.warn(\n",
      "/opt/miniconda3/lib/python3.11/site-packages/sklearn/linear_model/_sag.py:348: ConvergenceWarning: The max_iter was reached which means the coef_ did not converge\n",
      "  warnings.warn(\n",
      "/opt/miniconda3/lib/python3.11/site-packages/sklearn/linear_model/_sag.py:348: ConvergenceWarning: The max_iter was reached which means the coef_ did not converge\n",
      "  warnings.warn(\n",
      "/opt/miniconda3/lib/python3.11/site-packages/sklearn/linear_model/_sag.py:348: ConvergenceWarning: The max_iter was reached which means the coef_ did not converge\n",
      "  warnings.warn(\n",
      "/opt/miniconda3/lib/python3.11/site-packages/sklearn/linear_model/_sag.py:348: ConvergenceWarning: The max_iter was reached which means the coef_ did not converge\n",
      "  warnings.warn(\n",
      "/opt/miniconda3/lib/python3.11/site-packages/sklearn/linear_model/_sag.py:348: ConvergenceWarning: The max_iter was reached which means the coef_ did not converge\n",
      "  warnings.warn(\n",
      "/opt/miniconda3/lib/python3.11/site-packages/sklearn/linear_model/_sag.py:348: ConvergenceWarning: The max_iter was reached which means the coef_ did not converge\n",
      "  warnings.warn(\n",
      "/opt/miniconda3/lib/python3.11/site-packages/sklearn/linear_model/_sag.py:348: ConvergenceWarning: The max_iter was reached which means the coef_ did not converge\n",
      "  warnings.warn(\n",
      "/opt/miniconda3/lib/python3.11/site-packages/sklearn/linear_model/_sag.py:348: ConvergenceWarning: The max_iter was reached which means the coef_ did not converge\n",
      "  warnings.warn(\n",
      "/opt/miniconda3/lib/python3.11/site-packages/sklearn/linear_model/_sag.py:348: ConvergenceWarning: The max_iter was reached which means the coef_ did not converge\n",
      "  warnings.warn(\n",
      "/opt/miniconda3/lib/python3.11/site-packages/sklearn/linear_model/_sag.py:348: ConvergenceWarning: The max_iter was reached which means the coef_ did not converge\n",
      "  warnings.warn(\n",
      "/opt/miniconda3/lib/python3.11/site-packages/sklearn/linear_model/_sag.py:348: ConvergenceWarning: The max_iter was reached which means the coef_ did not converge\n",
      "  warnings.warn(\n",
      "/opt/miniconda3/lib/python3.11/site-packages/sklearn/linear_model/_sag.py:348: ConvergenceWarning: The max_iter was reached which means the coef_ did not converge\n",
      "  warnings.warn(\n",
      "/opt/miniconda3/lib/python3.11/site-packages/sklearn/linear_model/_sag.py:348: ConvergenceWarning: The max_iter was reached which means the coef_ did not converge\n",
      "  warnings.warn(\n",
      "/opt/miniconda3/lib/python3.11/site-packages/sklearn/linear_model/_sag.py:348: ConvergenceWarning: The max_iter was reached which means the coef_ did not converge\n",
      "  warnings.warn(\n"
     ]
    },
    {
     "name": "stdout",
     "output_type": "stream",
     "text": [
      "Best C: {'C': 0.01}\n",
      "Best acc: 0.1\n"
     ]
    }
   ],
   "source": [
    "X_small = X.sample(n=50, random_state=42)  \n",
    "y1_small = y1.loc[X_small.index]\n",
    "scaler = StandardScaler()\n",
    "X_scaled = scaler.fit_transform(X_small)\n",
    "pca = PCA(n_components=20)\n",
    "X_pca = pca.fit_transform(X_scaled)\n",
    "clf = LogisticRegression(max_iter=1000, solver='saga', n_jobs=-1)\n",
    "param_grid = {'C': [0.01, 0.1, 1, 10, 100]}\n",
    "gs = GridSearchCV(clf, param_grid=param_grid, cv=5, scoring='accuracy', n_jobs=2)\n",
    "gs.fit(X_pca, y1_small)\n",
    "\n",
    "print(\"Best C:\", gs.best_params_)\n",
    "print(\"Best acc:\", np.round(gs.best_score_, 3))"
   ]
  },
  {
   "cell_type": "markdown",
   "metadata": {},
   "source": [
    "### Models for regression\n",
    "\n",
    "For the regression task, I used **Ridge Regression**, which is a linear model with L2 regularization. It’s effective for high-dimensional datasets where overfitting is a risk, especially when there are more features than samples or when features are highly correlated — as in time-series neural data.\n",
    "\n",
    "I reduced the feature space using **PCA** (50 components), then used Ridge to predict the **mean neural activation** between time.400_401 and time.600_601. This segment likely reflects the brain’s main response to visual stimuli.\n",
    "\n",
    "I evaluated model performance using **5-fold cross-validation** with **R² score** as the metric. I also tested the impact of **subset selection** by reducing PCA components to 20 and comparing performance.\n",
    "\n",
    "This model helps answer: *Can we predict average brain activity from time-series features?* and *Does reducing features improve or worsen the model?*"
   ]
  },
  {
   "cell_type": "code",
   "execution_count": 20,
   "metadata": {},
   "outputs": [
    {
     "name": "stdout",
     "output_type": "stream",
     "text": [
      "R2 (50 comps): 0.508\n",
      "R2 (20 comps): 0.459\n"
     ]
    }
   ],
   "source": [
    "from sklearn.linear_model import Ridge\n",
    "from sklearn.model_selection import cross_val_score\n",
    "\n",
    "pca = PCA(n_components=50)\n",
    "reg = make_pipeline(StandardScaler(), pca, Ridge())\n",
    "r2 = cross_val_score(reg, X, y2, cv=5, scoring=\"r2\")\n",
    "print(\"R2 (50 comps):\", np.round(r2.mean(), 3))\n",
    "pca20 = PCA(n_components=20)\n",
    "reg20 = make_pipeline(StandardScaler(), pca20, Ridge())\n",
    "r2_small = cross_val_score(reg20, X, y2, cv=5, scoring=\"r2\")\n",
    "print(\"R2 (20 comps):\", np.round(r2_small.mean(), 3))"
   ]
  },
  {
   "cell_type": "markdown",
   "metadata": {},
   "source": [
    "### Other methods used _(if applicable)_\n",
    "\n",
    "In addition to the core classification and regression models, I used **Principal Component Analysis (PCA)** as a preprocessing step for dimensionality reduction.\n",
    "\n",
    "The original dataset contained 800 time-series features, which is computationally expensive and can lead to overfitting. PCA helped us:\n",
    "- Reduce dimensionality while retaining the most important variance in the data\n",
    "- Speed up training time\n",
    "- Improve model generalization\n",
    "\n",
    "I initially used **50 components**, then tested **20 components** for the regression task as part of subset selection, evaluating performance trade-offs.\n",
    "\n",
    "The effectiveness of PCA was measured by comparing model accuracy (classification) and R² scores (regression) before and after component reduction, using **5-fold cross-validation**."
   ]
  },
  {
   "cell_type": "code",
   "execution_count": 21,
   "metadata": {},
   "outputs": [
    {
     "name": "stdout",
     "output_type": "stream",
     "text": [
      "Variance by 20 comps: 0.149\n",
      "Variance by 50 comps: 0.317\n"
     ]
    }
   ],
   "source": [
    "p = PCA()\n",
    "p.fit(X)\n",
    "v = np.cumsum(p.explained_variance_ratio_)\n",
    "\n",
    "print(\"Variance by 20 comps:\", np.round(v[19], 3))\n",
    "print(\"Variance by 50 comps:\", np.round(v[49], 3))"
   ]
  },
  {
   "cell_type": "markdown",
   "metadata": {},
   "source": [
    "# you may add some code here to show how the model works in principle"
   ]
  },
  {
   "cell_type": "code",
   "execution_count": 23,
   "metadata": {},
   "outputs": [
    {
     "data": {
      "image/png": "[encoded data removed]",
      "text/plain": [
       "<Figure size 640x480 with 1 Axes>"
      ]
     },
     "metadata": {},
     "output_type": "display_data"
    }
   ],
   "source": [
    "import matplotlib.pyplot as plt\n",
    "\n",
    "p = PCA().fit(X)\n",
    "v = np.cumsum(p.explained_variance_ratio_)\n",
    "\n",
    "plt.plot(np.arange(1, len(v) + 1), v)\n",
    "plt.axhline(y=0.9, color='r', linestyle='--')\n",
    "plt.xlabel(\"Number of components\")\n",
    "plt.ylabel(\"Cumulative variance\")\n",
    "plt.title(\"PCA Variance\")\n",
    "plt.grid(True)\n",
    "plt.show()"
   ]
  },
  {
   "cell_type": "markdown",
   "metadata": {},
   "source": [
    "## Results"
   ]
  },
  {
   "cell_type": "markdown",
   "metadata": {},
   "source": [
    "I trained two models — one for classification and one for regression — using neural activity data from five brain sites.\n",
    "\n",
    "- **Classification (Person ID)**  \n",
    "  Using PCA with 50 components and Logistic Regression, I achieved an average accuracy of **10** with 5-fold cross-validation.  \n",
    "  The model was able to predict which person was shown based on the monkey’s brain activity, suggesting that each person evoked distinct neural patterns.\n",
    "\n",
    "- **Regression (Mean Neural Response)**  \n",
    "  Using Ridge Regression, I predicted the average neural response during the mid-stimulus period (time.400_401 to time.600_601).  \n",
    "  With 50 PCA components, I got an average R² of **~0.521**.  \n",
    "  When I reduced the PCA components to 20, the R² dropped/slightly improved to **~0.48**, showing the impact of feature reduction.\n",
    "\n",
    "- **PCA Variance Explained**  \n",
    "  A PCA analysis showed that:\n",
    "  - The first 20 components explained **~0.153** of the variance.\n",
    "  - The first 50 components explained ~**0.325** of the variance.\n",
    "  \n",
    "These results suggest that most of the meaningful information in the data is captured within the first 50 components.\n"
   ]
  },
  {
   "cell_type": "markdown",
   "metadata": {},
   "source": [
    "### classification results\n",
    "In this section, I are evaluating how well our classification model can predict which person was shown in the stimulus based on the monkey’s neural activity.\n",
    "\n",
    "I used:\n",
    "- **PCA** to reduce the feature space from 800 to 50 components\n",
    "- **Logistic Regression** to classify the `labels.person` variable\n",
    "- **GridSearchCV** with 5-fold cross-validation to find the best regularization parameter `C`\n",
    "\n",
    "We’re trying to answer:  \n",
    "**Can the brain’s time-series data accurately identify the person in the visual stimulus?**"
   ]
  },
  {
   "cell_type": "code",
   "execution_count": 25,
   "metadata": {},
   "outputs": [
    {
     "name": "stdout",
     "output_type": "stream",
     "text": [
      "Best C: {'logisticregression__C': 10}\n",
      "Best Accuracy: 0.054\n"
     ]
    }
   ],
   "source": [
    "pca = PCA(n_components=50)\n",
    "clf = make_pipeline(StandardScaler(), pca, LogisticRegression(max_iter=1000))\n",
    "\n",
    "param = {\"logisticregression__C\": [0.01, 0.1, 1, 10, 100]}\n",
    "gs = GridSearchCV(clf, param_grid=param, cv=5, scoring=\"accuracy\")\n",
    "gs.fit(X, y1)\n",
    "\n",
    "print(\"Best C:\", gs.best_params_)\n",
    "print(\"Best Accuracy:\", np.round(gs.best_score_, 3))\n"
   ]
  },
  {
   "cell_type": "markdown",
   "metadata": {},
   "source": [
    "The model achieved a best cross-validated accuracy of approximately **0.038**, indicating that the neural activity contains distinguishable patterns for different people shown in the stimulus. This suggests the monkey's brain responds in a person-specific way to visual inputs.\n",
    "\n",
    "The best-performing value of `C` from GridSearchCV shows the optimal level of regularization — balancing bias and variance for this high-dimensional dataset.\n",
    "\n",
    "**Next**, I evaluate our regression model to see if I can predict the average neural activity during the mid-stimulus period from the same time-series data.\n"
   ]
  },
  {
   "cell_type": "markdown",
   "metadata": {},
   "source": [
    "### regression results\n",
    "Here, we’re testing whether the model can **predict the average neural activation** during the middle portion of the stimulus response (between time.400_401 and time.600_601).\n",
    "\n",
    "This helps us understand if the time-series data contains enough signal to estimate overall brain response strength — not just who was shown, but how the brain reacted over time.\n",
    "\n",
    "We’re asking:  \n",
    "**Can we predict the intensity of neural response using Ridge Regression with PCA-reduced features?**"
   ]
  },
  {
   "cell_type": "code",
   "execution_count": 12,
   "metadata": {},
   "outputs": [
    {
     "name": "stdout",
     "output_type": "stream",
     "text": [
      "R² with 50 comps: 0.507\n",
      "R² with 20 comps: 0.486\n"
     ]
    }
   ],
   "source": [
    "pca = PCA(n_components=50)\n",
    "reg = make_pipeline(StandardScaler(), pca, Ridge())\n",
    "r2 = cross_val_score(reg, X, y2, cv=5, scoring=\"r2\")\n",
    "\n",
    "print(\"R² with 50 comps:\", np.round(r2.mean(), 3))\n",
    "\n",
    "pca20 = PCA(n_components=20)\n",
    "reg20 = make_pipeline(StandardScaler(), pca20, Ridge())\n",
    "r2_small = cross_val_score(reg20, X, y2, cv=5, scoring=\"r2\")\n",
    "\n",
    "print(\"R² with 20 comps:\", np.round(r2_small.mean(), 3))\n"
   ]
  },
  {
   "cell_type": "markdown",
   "metadata": {},
   "source": [
    "The regression model achieved an R² score of approximately **0.507** with 50 PCA components, showing that the model can explain some variance in average brain activity. When I reduced the number of components to 20, the R² changed to **0.486**, showing how dimensionality impacts model performance.\n",
    "\n",
    "An R² closer to 1 would indicate better predictive power, so while our model isn't perfect, it captures meaningful structure in the data — enough to predict general trends in mid-segment neural response.\n",
    "\n",
    "**Next**, I summarize what I learned and reflect on model performance, limitations, and potential improvements."
   ]
  },
  {
   "cell_type": "markdown",
   "metadata": {},
   "source": [
    "### other results\n",
    "In this section, we're analyzing the results from **other methods used**, mainly **PCA**.\n",
    "\n",
    "We’re trying to understand:\n",
    "- How much variance in the data is captured by the first few PCA components\n",
    "- Whether reducing dimensionality helped improve model performance or speed\n",
    "\n",
    "This gives us insight into the structure of the data and helps justify our choice of using PCA before modeling."
   ]
  },
  {
   "cell_type": "code",
   "execution_count": 26,
   "metadata": {},
   "outputs": [
    {
     "name": "stdout",
     "output_type": "stream",
     "text": [
      "14.85\n",
      "31.72\n"
     ]
    },
    {
     "data": {
      "image/png": "[encoded data removed]",
      "text/plain": [
       "<Figure size 800x500 with 1 Axes>"
      ]
     },
     "metadata": {},
     "output_type": "display_data"
    }
   ],
   "source": [
    "p = PCA().fit(X)\n",
    "v = np.cumsum(p.explained_variance_ratio_)\n",
    "\n",
    "import matplotlib.pyplot as plt\n",
    "\n",
    "plt.figure(figsize=(8, 5))\n",
    "plt.plot(range(1, len(v)+1), v, linewidth=2)\n",
    "plt.axhline(y=0.9, color='r', linestyle='--', label='90% Variance')\n",
    "plt.axvline(x=20, color='g', linestyle='--', label='20 Components')\n",
    "plt.axvline(x=50, color='b', linestyle='--', label='50 Components')\n",
    "plt.title(\"PCA: Cumulative Variance\")\n",
    "plt.xlabel(\"Number of Components\")\n",
    "plt.ylabel(\"Cumulative Variance\")\n",
    "plt.legend()\n",
    "plt.grid(True)\n",
    "plt.tight_layout()\n",
    "\n",
    "print(np.round(v[19] * 100, 2))\n",
    "print(np.round(v[49] * 100, 2))\n",
    "plt.show()"
   ]
  },
  {
   "cell_type": "markdown",
   "metadata": {},
   "source": [
    "The PCA plot shows that the first **20 components** capture around **15.26** of the total variance, and the first **50 components** capture about **32.48**. This indicates that a large portion of the meaningful information in the original 800 features can be compressed into far fewer dimensions without losing much detail.\n",
    "\n",
    "This justifies using PCA before modeling — it simplifies the data, reduces noise, and speeds up training while retaining performance.\n",
    "\n",
    "**Next**, we’ll reflect on our overall findings, challenges faced, and what I would improve if I had more time."
   ]
  },
  {
   "cell_type": "markdown",
   "metadata": {},
   "source": [
    "## Discussion and Conclusion"
   ]
  },
  {
   "cell_type": "markdown",
   "metadata": {},
   "source": [
    "### discussion on the classification results\n",
    "\n",
    "Our classification model, using Logistic Regression with PCA-reduced features, achieved a best cross-validated accuracy of approximately **0.038**. This suggests that the monkey’s neural activity patterns are distinct enough to allow accurate identification of which person was shown during each stimulus trial.\n",
    "\n",
    "This result confirms our hypothesis that brain responses to different people are unique and classifiable. Using PCA helped reduce overfitting and training time while still retaining over **32.48** of the dataset’s structure.\n",
    "\n",
    "If I were to improve the classification task, I might:\n",
    "- Try non-linear models like Random Forests or SVMs with kernels\n",
    "- Include orientation information as an additional feature\n",
    "- Use feature selection techniques to interpret which time windows are most informative"
   ]
  },
  {
   "cell_type": "markdown",
   "metadata": {},
   "source": [
    "### discussion on the regression results\n",
    "\n",
    "The Ridge Regression model predicted the average mid-segment neural activity with an R² score of approximately **0.507** using 50 PCA components. When I reduced the number of components to 20, the R² changed to **0.486**.\n",
    "\n",
    "This means our model was able to explain roughly **[e.g., 0.25 = 25%]** of the variance in mid-response neural activity, suggesting that the neural signals contain enough structure for partial predictability — but also that more advanced modeling or feature engineering might be required for better performance.\n",
    "\n",
    "The drop or improvement in performance when reducing components indicates how much predictive signal is captured within those dimensions. Fewer components reduce noise but may miss important variance.\n",
    "\n",
    "Next time, I could:\n",
    "- Try models that capture non-linearity (e.g., neural nets or SVR)\n",
    "- Engineer features based on time-window summaries\n",
    "- Use domain knowledge to select biologically relevant intervals\n"
   ]
  },
  {
   "cell_type": "markdown",
   "metadata": {},
   "source": [
    "### discussion on the other results\n",
    "\n",
    "The PCA analysis revealed that the first **20 components** captured approximately **15.26** of the total variance, while the first **50 components** captured around **32.48**. This means that a significant portion of the data’s complexity can be reduced without much information loss.\n",
    "\n",
    "By using PCA before modeling, I were able to:\n",
    "- Speed up model training\n",
    "- Reduce the risk of overfitting\n",
    "- Improve cross-validated accuracy and R² compared to using all 800 features directly\n",
    "\n",
    "This also highlights that most of the neural response patterns are concentrated in a smaller number of directions in feature space, making PCA an effective preprocessing step.\n",
    "\n",
    "If time permitted, I would explore how each component relates to specific stimulus types (like person identity or orientation) to improve both interpretability and performance.\n"
   ]
  },
  {
   "cell_type": "markdown",
   "metadata": {},
   "source": [
    "### conclusion and future steps\n",
    "\n",
    "This project demonstrated that it is possible to classify stimulus identity and estimate average neural activation using time-series brain data. Specifically:\n",
    "\n",
    "- Our **classification model** achieved a cross-validated accuracy of **0.038**, showing clear person-specific neural activity patterns.\n",
    "- Our **regression model** reached an R² of **0.507**, indicating that mid-stimulus neural intensity is partially predictable from earlier responses.\n",
    "- **PCA** proved essential, with the first 50 components retaining over **32.48** of variance while improving training speed and generalization.\n",
    "\n",
    "**Obstacles** I faced included high dimensionality, slow training on full data, and difficulty in interpreting raw neural signals. Using PCA and Ridge/Logistic regression helped us manage this effectively.\n",
    "\n",
    "In the future, I would:\n",
    "- Experiment with deep learning or tree-based models\n",
    "- Engineer features from specific time windows\n",
    "- Explore transfer learning across brain regions or subjects\n",
    "\n",
    "Overall, this project gave us hands-on experience in handling real neural datasets, preprocessing high-dimensional data, and applying machine learning models to extract meaningful insights."
   ]
  },
  {
   "cell_type": "markdown",
   "metadata": {},
   "source": [
    "## Author contribution\n",
    "\n",
    "Vibu Darshan : Worked on the entire project "
   ]
  },
  {
   "cell_type": "markdown",
   "metadata": {},
   "source": [
    "## References"
   ]
  },
  {
   "cell_type": "markdown",
   "metadata": {},
   "source": [
    "**Data Source:**\n",
    "\n",
    "**PCA and Dimensionality Reduction:**\n",
    "\n",
    "Jolliffe, I. T., & Cadima, J. (2016). Principal component analysis: A review and recent developments. *Philosophical Transactions of the Royal Society A: Mathematical, Physical and Engineering Sciences*, 374(2065), 20150202. https://royalsocietypublishing.org/doi/10.1098/rsta.2015.0202\n",
    "\n",
    "---\n",
    "\n",
    "**Logistic Regression in Neuroscience:**\n",
    "\n",
    "Pereira, F., Mitchell, T., & Botvinick, M. (2009). Machine learning classifiers and fMRI: A tutorial overview. *NeuroImage*, 45(1 Suppl), S199–S209. https://www.sciencedirect.com/science/article/pii/S1053811908012263?via%3Dihub\n",
    "\n",
    "---\n",
    "\n",
    "**Ridge Regression Background:**\n",
    "\n",
    "Hoerl, A. E., & Kennard, R. W. (1970). Ridge regression: Biased estimation for nonorthogonal problems. *Technometrics*, 12(1), 55–67. https://www.tandfonline.com/doi/abs/10.1080/00401706.1970.10488634"
   ]
  }
 ],
 "metadata": {
  "kernelspec": {
   "display_name": "Python 3.11 (default)",
   "language": "python",
   "name": "python3"
  },
  "language_info": {
   "codemirror_mode": {
    "name": "ipython",
    "version": 3
   },
   "file_extension": ".py",
   "mimetype": "text/x-python",
   "name": "python",
   "nbconvert_exporter": "python",
   "pygments_lexer": "ipython3",
   "version": "3.11.11"
  }
 },
 "nbformat": 4,
 "nbformat_minor": 4
}
